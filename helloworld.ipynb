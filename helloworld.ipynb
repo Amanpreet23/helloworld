{
  "nbformat": 4,
  "nbformat_minor": 0,
  "metadata": {
    "colab": {
      "provenance": []
    },
    "kernelspec": {
      "name": "python3",
      "display_name": "Python 3"
    },
    "language_info": {
      "name": "python"
    }
  },
  "cells": [
    {
      "cell_type": "code",
      "execution_count": null,
      "metadata": {
        "colab": {
          "base_uri": "https://localhost:8080/"
        },
        "id": "1tn20BMTyoIo",
        "outputId": "b0901dd2-adfb-446a-e27a-1ccf03d91c9d"
      },
      "outputs": [
        {
          "output_type": "stream",
          "name": "stdout",
          "text": [
            "hello world\n"
          ]
        }
      ],
      "source": [
        "print(\"hello world\")"
      ]
    },
    {
      "cell_type": "code",
      "source": [
        "print(\"Amanpreet Kour\")"
      ],
      "metadata": {
        "colab": {
          "base_uri": "https://localhost:8080/"
        },
        "id": "Vobu46Q3zESw",
        "outputId": "f8bd37b0-3965-47f4-a510-6c1e2ee9f44f"
      },
      "execution_count": null,
      "outputs": [
        {
          "output_type": "stream",
          "name": "stdout",
          "text": [
            "Amanpreet Kour\n"
          ]
        }
      ]
    },
    {
      "cell_type": "code",
      "source": [
        "###data types"
      ],
      "metadata": {
        "id": "njhI72TT0Agt"
      },
      "execution_count": null,
      "outputs": []
    },
    {
      "cell_type": "code",
      "source": [
        "x=10.565643656\n",
        "type(x)"
      ],
      "metadata": {
        "id": "24H7MKnH0EBw",
        "colab": {
          "base_uri": "https://localhost:8080/"
        },
        "outputId": "3278c139-bab9-4ff3-86c2-4adc20eb0baf"
      },
      "execution_count": 9,
      "outputs": [
        {
          "output_type": "execute_result",
          "data": {
            "text/plain": [
              "float"
            ]
          },
          "metadata": {},
          "execution_count": 9
        }
      ]
    },
    {
      "cell_type": "code",
      "source": [
        "x=\"AK-47\"\n",
        "type(x)"
      ],
      "metadata": {
        "colab": {
          "base_uri": "https://localhost:8080/"
        },
        "id": "xbRQCiZD0bgU",
        "outputId": "2a40c420-33b1-4b89-9725-dc587814ed1a"
      },
      "execution_count": 11,
      "outputs": [
        {
          "output_type": "execute_result",
          "data": {
            "text/plain": [
              "str"
            ]
          },
          "metadata": {},
          "execution_count": 11
        }
      ]
    },
    {
      "cell_type": "code",
      "source": [
        "x=True\n",
        "type(x)"
      ],
      "metadata": {
        "colab": {
          "base_uri": "https://localhost:8080/"
        },
        "id": "3nKmcEIA0isW",
        "outputId": "3155ce81-47fa-4de7-df8f-b5c8fb7e26bd"
      },
      "execution_count": 13,
      "outputs": [
        {
          "output_type": "execute_result",
          "data": {
            "text/plain": [
              "bool"
            ]
          },
          "metadata": {},
          "execution_count": 13
        }
      ]
    },
    {
      "cell_type": "code",
      "source": [
        "###how to add file on github?"
      ],
      "metadata": {
        "id": "9nfKkY420nW5"
      },
      "execution_count": 14,
      "outputs": []
    }
  ]
}